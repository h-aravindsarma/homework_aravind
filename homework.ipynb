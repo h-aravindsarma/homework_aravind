{
 "cells": [
  {
   "cell_type": "code",
   "execution_count": 1,
   "id": "d1d34f1c-f3aa-4952-9839-6e8c98743c78",
   "metadata": {},
   "outputs": [
    {
     "name": "stdout",
     "output_type": "stream",
     "text": [
      "1.4.4\n"
     ]
    }
   ],
   "source": [
    "import pandas as pd\n",
    "print(pd.__version__)"
   ]
  },
  {
   "cell_type": "code",
   "execution_count": 2,
   "id": "4dece769-744b-415e-b7fd-d9689f592880",
   "metadata": {},
   "outputs": [],
   "source": [
    "colours =pd.Series([\"Red\", \"Blue\", \"Green\"])"
   ]
  },
  {
   "cell_type": "code",
   "execution_count": 4,
   "id": "19d7cb08-a088-47e7-a189-01bdf85c3d9f",
   "metadata": {},
   "outputs": [
    {
     "name": "stdout",
     "output_type": "stream",
     "text": [
      "0      Red\n",
      "1     Blue\n",
      "2    Green\n",
      "dtype: object\n"
     ]
    }
   ],
   "source": [
    "print(colours)"
   ]
  },
  {
   "cell_type": "code",
   "execution_count": 5,
   "id": "3ff75a59-9aa9-448f-a4fa-8b0bba8132c8",
   "metadata": {},
   "outputs": [],
   "source": [
    "x= ([\"RED\"])"
   ]
  },
  {
   "cell_type": "code",
   "execution_count": 6,
   "id": "f426ac0a-4208-4f40-98f9-3ffaaed1d6a4",
   "metadata": {},
   "outputs": [],
   "source": [
    "y= ([\"WHITE\"])"
   ]
  },
  {
   "cell_type": "code",
   "execution_count": 7,
   "id": "ce07217e-cc66-409b-b951-24aa72900dca",
   "metadata": {},
   "outputs": [],
   "source": [
    "z= ([\"BLUE\"])"
   ]
  },
  {
   "cell_type": "code",
   "execution_count": 8,
   "id": "63973c73-7323-41e8-a0f3-d8f32c019af7",
   "metadata": {},
   "outputs": [
    {
     "name": "stdout",
     "output_type": "stream",
     "text": [
      "['RED'] ['WHITE'] ['BLUE']\n"
     ]
    }
   ],
   "source": [
    "print(x,y,z)"
   ]
  },
  {
   "cell_type": "code",
   "execution_count": 9,
   "id": "9dce7020-49ab-44e8-ac6e-d26139ca0d32",
   "metadata": {},
   "outputs": [],
   "source": [
    "car = pd.Series([\"BMW\", \"Lamborghini\",\"RollsRoyce\"])"
   ]
  },
  {
   "cell_type": "code",
   "execution_count": 10,
   "id": "8c27daf6-3fca-4300-9ba8-563abad14d44",
   "metadata": {},
   "outputs": [
    {
     "name": "stdout",
     "output_type": "stream",
     "text": [
      "0            BMW\n",
      "1    Lamborghini\n",
      "2     RollsRoyce\n",
      "dtype: object\n"
     ]
    }
   ],
   "source": [
    "print(car)"
   ]
  },
  {
   "cell_type": "code",
   "execution_count": 29,
   "id": "8fc218d8-1752-4e0b-a406-b37253f6d725",
   "metadata": {},
   "outputs": [
    {
     "ename": "SyntaxError",
     "evalue": "invalid syntax (2865808390.py, line 1)",
     "output_type": "error",
     "traceback": [
      "\u001b[1;36m  File \u001b[1;32m\"C:\\Users\\Administrator\\AppData\\Local\\Temp\\ipykernel_5704\\2865808390.py\"\u001b[1;36m, line \u001b[1;32m1\u001b[0m\n\u001b[1;33m    carscolours = pd.Dataframe({cars type:\"cars\"})_({colours type:\"colours\"})\u001b[0m\n\u001b[1;37m                                     ^\u001b[0m\n\u001b[1;31mSyntaxError\u001b[0m\u001b[1;31m:\u001b[0m invalid syntax\n"
     ]
    }
   ],
   "source": [
    "carscolours = pd.Dataframe({cars type:\"car\"})_({colours type:\"colours\"})"
   ]
  },
  {
   "cell_type": "code",
   "execution_count": 30,
   "id": "d6149f04-89bb-490f-a382-5fea35be7127",
   "metadata": {},
   "outputs": [
    {
     "name": "stdout",
     "output_type": "stream",
     "text": [
      "0            BMW\n",
      "1    Lamborghini\n",
      "2     RollsRoyce\n",
      "dtype: object 0      Red\n",
      "1     Blue\n",
      "2    Green\n",
      "dtype: object\n"
     ]
    }
   ],
   "source": [
    "print(car,colours)"
   ]
  },
  {
   "cell_type": "code",
   "execution_count": 20,
   "id": "016472b6-ca5a-4a8b-a84f-dfea9f1fb917",
   "metadata": {},
   "outputs": [],
   "source": [
    "import pandas as pd"
   ]
  },
  {
   "cell_type": "code",
   "execution_count": 31,
   "id": "adc82f7d-7fdf-4522-8cd7-3f6aef7dd6b7",
   "metadata": {},
   "outputs": [],
   "source": [
    "DataFrame =pd.read_csv(\"C:/Users/Administrator/Desktop/mbcet_project_main/mbcet_project_main/car_sales.csv\")"
   ]
  },
  {
   "cell_type": "code",
   "execution_count": 33,
   "id": "8da3485f-b4d9-4307-a1d3-b985e23d2335",
   "metadata": {},
   "outputs": [
    {
     "data": {
      "text/html": [
       "<div>\n",
       "<style scoped>\n",
       "    .dataframe tbody tr th:only-of-type {\n",
       "        vertical-align: middle;\n",
       "    }\n",
       "\n",
       "    .dataframe tbody tr th {\n",
       "        vertical-align: top;\n",
       "    }\n",
       "\n",
       "    .dataframe thead th {\n",
       "        text-align: right;\n",
       "    }\n",
       "</style>\n",
       "<table border=\"1\" class=\"dataframe\">\n",
       "  <thead>\n",
       "    <tr style=\"text-align: right;\">\n",
       "      <th></th>\n",
       "      <th>Make</th>\n",
       "      <th>Colour</th>\n",
       "      <th>Odometer (KM)</th>\n",
       "      <th>Doors</th>\n",
       "      <th>Price</th>\n",
       "    </tr>\n",
       "  </thead>\n",
       "  <tbody>\n",
       "    <tr>\n",
       "      <th>0</th>\n",
       "      <td>Toyota</td>\n",
       "      <td>White</td>\n",
       "      <td>150043</td>\n",
       "      <td>4</td>\n",
       "      <td>$4,000.00</td>\n",
       "    </tr>\n",
       "    <tr>\n",
       "      <th>1</th>\n",
       "      <td>Honda</td>\n",
       "      <td>Red</td>\n",
       "      <td>87899</td>\n",
       "      <td>4</td>\n",
       "      <td>$5,000.00</td>\n",
       "    </tr>\n",
       "    <tr>\n",
       "      <th>2</th>\n",
       "      <td>Toyota</td>\n",
       "      <td>Blue</td>\n",
       "      <td>32549</td>\n",
       "      <td>3</td>\n",
       "      <td>$7,000.00</td>\n",
       "    </tr>\n",
       "    <tr>\n",
       "      <th>3</th>\n",
       "      <td>BMW</td>\n",
       "      <td>Black</td>\n",
       "      <td>11179</td>\n",
       "      <td>5</td>\n",
       "      <td>$22,000.00</td>\n",
       "    </tr>\n",
       "    <tr>\n",
       "      <th>4</th>\n",
       "      <td>Nissan</td>\n",
       "      <td>White</td>\n",
       "      <td>213095</td>\n",
       "      <td>4</td>\n",
       "      <td>$3,500.00</td>\n",
       "    </tr>\n",
       "  </tbody>\n",
       "</table>\n",
       "</div>"
      ],
      "text/plain": [
       "     Make Colour  Odometer (KM)  Doors       Price\n",
       "0  Toyota  White         150043      4   $4,000.00\n",
       "1   Honda    Red          87899      4   $5,000.00\n",
       "2  Toyota   Blue          32549      3   $7,000.00\n",
       "3     BMW  Black          11179      5  $22,000.00\n",
       "4  Nissan  White         213095      4   $3,500.00"
      ]
     },
     "execution_count": 33,
     "metadata": {},
     "output_type": "execute_result"
    }
   ],
   "source": [
    "DataFrame.head()"
   ]
  },
  {
   "cell_type": "code",
   "execution_count": null,
   "id": "c41b0b4c-3725-48b1-bdea-f70c3a5b4f89",
   "metadata": {},
   "outputs": [],
   "source": []
  }
 ],
 "metadata": {
  "kernelspec": {
   "display_name": "Python 3 (ipykernel)",
   "language": "python",
   "name": "python3"
  },
  "language_info": {
   "codemirror_mode": {
    "name": "ipython",
    "version": 3
   },
   "file_extension": ".py",
   "mimetype": "text/x-python",
   "name": "python",
   "nbconvert_exporter": "python",
   "pygments_lexer": "ipython3",
   "version": "3.9.13"
  }
 },
 "nbformat": 4,
 "nbformat_minor": 5
}
